{
 "cells": [
  {
   "cell_type": "markdown",
   "metadata": {},
   "source": [
    "##### João Vitor Cardoso <2019>"
   ]
  },
  {
   "cell_type": "markdown",
   "metadata": {},
   "source": [
    "# Desenhar trajetoria\n",
    "\n",
    "Desenhar a trajetória de um carrinho apartir de uma sequência de imagens"
   ]
  },
  {
   "cell_type": "markdown",
   "metadata": {},
   "source": [
    "## Importando Bibliotecas "
   ]
  },
  {
   "cell_type": "code",
   "execution_count": 1,
   "metadata": {},
   "outputs": [],
   "source": [
    "import cv2\n",
    "import matplotlib\n",
    "import numpy as np\n",
    "from matplotlib import pyplot as plt\n",
    "from ipywidgets import interact, interactive, interact_manual"
   ]
  },
  {
   "cell_type": "markdown",
   "metadata": {},
   "source": [
    "## Explorando Dados"
   ]
  },
  {
   "cell_type": "code",
   "execution_count": 2,
   "metadata": {
    "scrolled": true
   },
   "outputs": [
    {
     "data": {
      "application/vnd.jupyter.widget-view+json": {
       "model_id": "78a4b297ae214ba6b1748376fdf7ef1f",
       "version_major": 2,
       "version_minor": 0
      },
      "text/plain": [
       "interactive(children=(Dropdown(description='label', options=('shot0003.png', 'shot0004.png', 'shot0005.png', '…"
      ]
     },
     "metadata": {},
     "output_type": "display_data"
    }
   ],
   "source": [
    "# Conjunto de imagens {nome da imagem: [Original, Escala de cinza  }\n",
    "images = {}\n",
    "ORIG = 0\n",
    "GRAY = 1\n",
    "\n",
    "# Imagem utilizada como referência\n",
    "img = None\n",
    "\n",
    "# Caminho dos dados\n",
    "FILEPATH = \"data/\"\n",
    "\n",
    "# Carregar imagens \n",
    "for x in range(3, 16):\n",
    " \n",
    "    # Nome da imagem\n",
    "    label = \"shot%.4d.png\" %x\n",
    "\n",
    "    # Caminho do imagem\n",
    "    path = FILEPATH + label\n",
    "\n",
    "    # Carregar a imagem na cor BGR (Padrão Opencv)\n",
    "    orig = cv2.imread(path, cv2.IMREAD_COLOR)\n",
    "\n",
    "    # Converter para RGB\n",
    "    orig = cv2.cvtColor(orig, cv2.COLOR_BGR2RGB)\n",
    "\n",
    "    # Carregar imagem em escala de cinza\n",
    "    gray = cv2.cvtColor(orig, cv2.COLOR_RGB2GRAY)\n",
    "\n",
    "    # Salvando imagens no dicionario\n",
    "    images[label] = [orig, gray]\n",
    "\n",
    "# Visualizando imagem selecionada\n",
    "def view_image(label):\n",
    "    \n",
    "    # Referênciando variavel global\n",
    "    global images, img\n",
    "\n",
    "    # Definindo imagem de referência\n",
    "    img = images[label]\n",
    "    \n",
    "    # Recuperando imagem \n",
    "    orig = img[ORIG]\n",
    "    gray = img[GRAY]\n",
    "\n",
    "    # Plotar imagens\n",
    "    fig, axes = plt.subplots(1, 2, figsize=(16, 12), sharex=True, sharey=True)\n",
    "    ax = axes.ravel()\n",
    "    ax[0].imshow(orig)\n",
    "    ax[1].imshow(gray, 'gray')\n",
    "\n",
    "# Selecionar imagem apartir da escolha do usuário\n",
    "interactive(view_image, label=images.keys())\n",
    "    "
   ]
  },
  {
   "cell_type": "markdown",
   "metadata": {},
   "source": [
    "### Criando imagem de plano de fundo"
   ]
  },
  {
   "cell_type": "code",
   "execution_count": 3,
   "metadata": {},
   "outputs": [
    {
     "data": {
      "application/vnd.jupyter.widget-view+json": {
       "model_id": "26610d5e1abe4fff996737f8167c71b2",
       "version_major": 2,
       "version_minor": 0
      },
      "text/plain": [
       "interactive(children=(IntSlider(value=12, description='h', max=19), Dropdown(description='label', options=('sh…"
      ]
     },
     "metadata": {},
     "output_type": "display_data"
    }
   ],
   "source": [
    "# Obtendo a largura da imagem\n",
    "height = img[0].shape[1]\n",
    "\n",
    "# Criando imagem de plano de fundo\n",
    "background = None\n",
    "\n",
    "# Função para criar plano de fundo\n",
    "def create_background(h=12, label='shot0003.png', label2='shot0009.png'):\n",
    "    global images, background, height\n",
    "\n",
    "    if h != 0:\n",
    "        # Ajustando a escala\n",
    "        h = h*100\n",
    "        \n",
    "        # Carregando imagem 1 e 2\n",
    "        img1 = images[label][ORIG]\n",
    "        img2 = images[label2][ORIG]\n",
    "        \n",
    "        # Criando uma copia da imagem 1\n",
    "        img1 = img1.copy()\n",
    "        \n",
    "        # Criando copia de uma parte da imagem 2, apartir do ponto h*100, sobreescrevendo copia da imagem 1. \n",
    "        img1[0:-1, h:-1] = img2[0:-1, h:-1].copy()\n",
    "        \n",
    "        # Obtendo versão em escala de cinza\n",
    "        gray = cv2.cvtColor(img1, cv2.COLOR_RGB2GRAY)\n",
    "        \n",
    "        # Salvando imagem\n",
    "        background = (img1, gray)\n",
    "        \n",
    "    # Mostrando\n",
    "    plt.imshow(img1, 'gray')\n",
    "\n",
    "interactive(create_background, h=(0, int(height/100) ), label=images.keys(), label2=images.keys())"
   ]
  },
  {
   "cell_type": "markdown",
   "metadata": {},
   "source": [
    "## Selecionando Carrinho"
   ]
  },
  {
   "cell_type": "code",
   "execution_count": 4,
   "metadata": {},
   "outputs": [
    {
     "data": {
      "application/vnd.jupyter.widget-view+json": {
       "model_id": "b5843cd0704843c7a847fbbfe0e4f2cb",
       "version_major": 2,
       "version_minor": 0
      },
      "text/plain": [
       "interactive(children=(Dropdown(description='label', options=('shot0003.png', 'shot0004.png', 'shot0005.png', '…"
      ]
     },
     "metadata": {},
     "output_type": "display_data"
    }
   ],
   "source": [
    "# Conjunto de imagens {nome da imagem: [Original, \n",
    "#                                       Escala de cinza, \n",
    "#                                       Diferença entre plano de fundo e a escala de cinda] }\n",
    "CHANGE = 2\n",
    "\n",
    "for key, value in images.items():\n",
    "    value.append(cv2.absdiff(background[GRAY], value[GRAY]))\n",
    "\n",
    "# Visualizando diferença entre as imagens\n",
    "def view_diff(label):\n",
    "    \n",
    "    # Referênciando variavel global\n",
    "    global images\n",
    "    \n",
    "    # Recuperando imagem \n",
    "    gray = images[label][GRAY]\n",
    "    change = images[label][CHANGE]\n",
    "\n",
    "    # Plotar imagens\n",
    "    fig, axes = plt.subplots(1, 2, figsize=(16, 12), sharex=True, sharey=True)\n",
    "    ax = axes.ravel()\n",
    "    ax[0].imshow(gray, 'gray')\n",
    "    ax[1].imshow(change, 'gray')\n",
    "\n",
    "# Selecionar imagem apartir da escolha do usuário\n",
    "interactive(view_diff, label=images.keys())"
   ]
  },
  {
   "cell_type": "markdown",
   "metadata": {},
   "source": [
    "## Aplicando Filtro"
   ]
  },
  {
   "cell_type": "code",
   "execution_count": 5,
   "metadata": {},
   "outputs": [
    {
     "data": {
      "application/vnd.jupyter.widget-view+json": {
       "model_id": "4e618c08608147059c3729643d528cf5",
       "version_major": 2,
       "version_minor": 0
      },
      "text/plain": [
       "interactive(children=(Dropdown(description='label', options=('shot0003.png', 'shot0004.png', 'shot0005.png', '…"
      ]
     },
     "metadata": {},
     "output_type": "display_data"
    }
   ],
   "source": [
    "# Conjunto de imagens {nome da imagem: [Original, \n",
    "#                                       Escala de cinza, \n",
    "#                                       Diferença entre plano de fundo e a escala de cinda,\n",
    "#                                       Imagem filtrada] }\n",
    "FILTER = 3\n",
    "\n",
    "# Adicionando espaço para filtro nas imagens\n",
    "for key, value in images.items():\n",
    "    value.append(None)\n",
    "\n",
    "# Filtros do cv2\n",
    "modes = ['cv2.THRESH_BINARY',\n",
    "         'cv2.THRESH_BINARY_INV',\n",
    "         'cv2.THRESH_TRUNC',\n",
    "         'cv2.THRESH_TOZERO',\n",
    "         'cv2.THRESH_TOZERO_INV']\n",
    "\n",
    "\n",
    "# Threshold basico\n",
    "def my_threshold(label, thresh, modeStr):\n",
    "    mode = eval(modeStr)\n",
    "\n",
    "    # Aplicando threshold em todas as imagens\n",
    "    for key, value in images.items():\n",
    "        th, dst  = cv2.threshold(value[CHANGE], thresh, 255, mode)\n",
    "        value[FILTER] = dst\n",
    "        \n",
    "    # Recuperando imagem \n",
    "    gray = images[label][GRAY]\n",
    "    fil = images[label][FILTER]\n",
    "\n",
    "    # Plotar imagens\n",
    "    fig, axes = plt.subplots(1, 2, figsize=(16, 12), sharex=True, sharey=True)\n",
    "    ax = axes.ravel()\n",
    "    ax[0].imshow(gray, 'gray')\n",
    "    ax[1].imshow(fil, 'gray')\n",
    "\n",
    "# Selecionar imagem apartir da escolha do usuário\n",
    "interactive(my_threshold, label=images.keys(), modeStr=modes, thresh = (0, 255))"
   ]
  },
  {
   "cell_type": "markdown",
   "metadata": {},
   "source": [
    "## Refinando imagem filtrada"
   ]
  },
  {
   "cell_type": "code",
   "execution_count": 6,
   "metadata": {
    "scrolled": true
   },
   "outputs": [
    {
     "data": {
      "application/vnd.jupyter.widget-view+json": {
       "model_id": "f1f2c678b2b84cb5b2220cf320f6fa57",
       "version_major": 2,
       "version_minor": 0
      },
      "text/plain": [
       "interactive(children=(Dropdown(description='label', options=('shot0003.png', 'shot0004.png', 'shot0005.png', '…"
      ]
     },
     "metadata": {},
     "output_type": "display_data"
    }
   ],
   "source": [
    "# Conjunto de imagens {nome da imagem: [Original, \n",
    "#                                       Escala de cinza, \n",
    "#                                       Diferença entre plano de fundo e a escala de cinda,\n",
    "#                                       Imagem filtrada,\n",
    "#                                       Imagem com menos ruido] }\n",
    "RESULT = 4\n",
    "\n",
    "# Criando kernel\n",
    "kernel1 = cv2.getStructuringElement(cv2.MORPH_ELLIPSE,(3,3))\n",
    "kernel2 = np.ones((30,30),np.uint8)\n",
    "\n",
    "\n",
    "for key, value in images.items():\n",
    "    # Aplicando operação de abertura\n",
    "    opening = cv2.morphologyEx(value[FILTER], cv2.MORPH_OPEN, kernel1)\n",
    "    # Aplicando operação de abertura\n",
    "    closing = cv2.morphologyEx(opening, cv2.MORPH_CLOSE, kernel2)\n",
    "    # Salvando\n",
    "    value.append(closing)\n",
    "\n",
    "# Visualizando imagem com menos ruidos\n",
    "def view_result(label):\n",
    "    \n",
    "    # Referênciando variavel global\n",
    "    global images\n",
    "    \n",
    "    # Recuperando imagem \n",
    "    gray = images[label][GRAY]\n",
    "    result = images[label][RESULT]\n",
    "\n",
    "    # Plotar imagens\n",
    "    fig, axes = plt.subplots(1, 2, figsize=(16, 12), sharex=True, sharey=True)\n",
    "    ax = axes.ravel()\n",
    "    ax[0].imshow(gray, 'gray')\n",
    "    ax[1].imshow(result, 'gray')\n",
    "\n",
    "# Selecionar imagem apartir da escolha do usuário\n",
    "interactive(view_result, label=images.keys())"
   ]
  },
  {
   "cell_type": "markdown",
   "metadata": {},
   "source": [
    "## Calcular centro de massa"
   ]
  },
  {
   "cell_type": "code",
   "execution_count": 7,
   "metadata": {},
   "outputs": [
    {
     "data": {
      "application/vnd.jupyter.widget-view+json": {
       "model_id": "8b833d3efaf5433291b43697427fb974",
       "version_major": 2,
       "version_minor": 0
      },
      "text/plain": [
       "interactive(children=(Dropdown(description='label', options=('shot0003.png', 'shot0004.png', 'shot0005.png', '…"
      ]
     },
     "metadata": {},
     "output_type": "display_data"
    }
   ],
   "source": [
    "# Conjunto de imagens {nome da imagem: [Original, \n",
    "#                                       Escala de cinza, \n",
    "#                                       Diferença entre plano de fundo e a escala de cinda,\n",
    "#                                       Imagem filtrada,\n",
    "#                                       Imagem com menos ruido,\n",
    "#                                       Centro de massa] }\n",
    "MASS = 5\n",
    "\n",
    "for key, value in images.items():\n",
    "\n",
    "    # Pegando imagem\n",
    "    result = value[RESULT]\n",
    "    # Pegando altura e largura\n",
    "    height, width = result.shape[:2]\n",
    "\n",
    "    #Iniciando valores\n",
    "    mass = 0\n",
    "    x  = 0\n",
    "    y  = 0\n",
    "\n",
    "    # Percorrendo a imagem\n",
    "    for i in range(width) :\n",
    "        for j in range(height) :\n",
    "            # Somando valores das posições que tiverem cor branca\n",
    "            if result[j][i] :\n",
    "                mass += 1\n",
    "                x  += i\n",
    "                y  += j\n",
    "\n",
    "    # Calculando centro de massa\n",
    "    x = x/mass\n",
    "    y = y/mass\n",
    "    \n",
    "    # Salvando\n",
    "    value.append((x,y))\n",
    "\n",
    "# Visualizando centro de massa do carrinho\n",
    "def view_cm(label):\n",
    "    \n",
    "    # Referênciando variavel global\n",
    "    global images\n",
    "    \n",
    "    # Recuperando imagem \n",
    "    gray = images[label][RESULT]\n",
    "    xcm, ycm = images[label][MASS]\n",
    "\n",
    "    # Plotar imagens\n",
    "    plt.imshow(gray, 'gray')\n",
    "    plt.scatter([xcm], [ycm], s=30, c='yellow', edgecolors='red')\n",
    "\n",
    "# Selecionar imagem apartir da escolha do usuário\n",
    "interactive(view_cm, label=images.keys())    "
   ]
  },
  {
   "cell_type": "markdown",
   "metadata": {},
   "source": [
    "# Desenhar Trajetória "
   ]
  },
  {
   "cell_type": "code",
   "execution_count": 9,
   "metadata": {},
   "outputs": [
    {
     "data": {
      "text/plain": [
       "[<matplotlib.lines.Line2D at 0x7f627e4d45c0>]"
      ]
     },
     "execution_count": 9,
     "metadata": {},
     "output_type": "execute_result"
    },
    {
     "data": {
      "image/png": "[encoded data removed]",
      "text/plain": [
       "<Figure size 432x288 with 1 Axes>"
      ]
     },
     "metadata": {
      "needs_background": "light"
     },
     "output_type": "display_data"
    }
   ],
   "source": [
    "xcm = []\n",
    "ycm = []\n",
    "\n",
    "# Recuperando centro de massa das imagens\n",
    "for key, value in images.items():\n",
    "    x,y = value[MASS]\n",
    "    xcm.append(x)\n",
    "    ycm.append(y)\n",
    "\n",
    "# Recuperando primeira imagem\n",
    "gray = images['shot0003.png'][RESULT]\n",
    "\n",
    "# Plotando imagem\n",
    "plt.imshow(gray, 'gray')     \n",
    "\n",
    "# Plotando trajetória\n",
    "plt.plot(xcm, ycm, 'x-')"
   ]
  },
  {
   "cell_type": "code",
   "execution_count": null,
   "metadata": {},
   "outputs": [],
   "source": []
  }
 ],
 "metadata": {
  "kernelspec": {
   "display_name": "Python 3",
   "language": "python",
   "name": "python3"
  },
  "language_info": {
   "codemirror_mode": {
    "name": "ipython",
    "version": 3
   },
   "file_extension": ".py",
   "mimetype": "text/x-python",
   "name": "python",
   "nbconvert_exporter": "python",
   "pygments_lexer": "ipython3",
   "version": "3.6.9"
  }
 },
 "nbformat": 4,
 "nbformat_minor": 4
}
